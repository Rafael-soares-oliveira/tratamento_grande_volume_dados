{
 "cells": [
  {
   "cell_type": "markdown",
   "metadata": {},
   "source": [
    "Eleições 2022 - 2º Turno<br>\n",
    "Dados apenas do estado de SP<Br>\n",
    "<br>\n",
    "Objetivos:<br>\n",
    "- Importar e tratar o arquivo com o boletim da urna;<br>\n",
    "- Descobrir as seções que cada candidato obteve mais votos que o outro e definir como ganhador daquela seção;<Br>\n",
    "- Importar e tratar o arquivo com o perfil do eleitores;<br>\n",
    "- Realizar a intersecção entre as seções que cada candidato venceu e o perfil do eleitor.<Br>"
   ]
  },
  {
   "cell_type": "code",
   "execution_count": 1,
   "metadata": {},
   "outputs": [],
   "source": [
    "import os\n",
    "import sys"
   ]
  },
  {
   "cell_type": "code",
   "execution_count": 2,
   "metadata": {},
   "outputs": [],
   "source": [
    "os.environ[\"SPARK_PYTHON\"] = sys.executable\n",
    "os.environ[\"SPARK_DRIVER_PYTHON\"] = sys.executable"
   ]
  },
  {
   "cell_type": "code",
   "execution_count": 3,
   "metadata": {},
   "outputs": [],
   "source": [
    "from pyspark.sql import SparkSession\n",
    "from pyspark.sql.functions import *\n",
    "from pyspark.sql.types import *"
   ]
  },
  {
   "cell_type": "code",
   "execution_count": 4,
   "metadata": {},
   "outputs": [],
   "source": [
    "spark = (\n",
    "  SparkSession.builder\n",
    "  .master('local')\n",
    "  .appName('Eleicoes_2022')\n",
    "  .getOrCreate()\n",
    ")"
   ]
  },
  {
   "cell_type": "markdown",
   "metadata": {},
   "source": [
    "### Boletim Urna 2022"
   ]
  },
  {
   "cell_type": "code",
   "execution_count": 5,
   "metadata": {},
   "outputs": [],
   "source": [
    "# Carregar o arquivo com o boletim da urna\n",
    "votos = spark.read.option(\"encoding\", \"ISO-8859-1\").csv(\n",
    "  \"datasets/boletim_urna_2022.csv\",\n",
    "  inferSchema=True,\n",
    "  header=True,\n",
    "  sep=\";\"\n",
    "  )"
   ]
  },
  {
   "cell_type": "code",
   "execution_count": 6,
   "metadata": {},
   "outputs": [],
   "source": [
    "# Selecionar apenas determinadas colunas\n",
    "votos = votos.select(\n",
    "  \"NM_MUNICIPIO\", \"NR_ZONA\", \"NR_SECAO\", \"DS_CARGO_PERGUNTA\", \"NM_VOTAVEL\",\n",
    "  \"QT_VOTOS\"\n",
    "  )"
   ]
  },
  {
   "cell_type": "code",
   "execution_count": 7,
   "metadata": {},
   "outputs": [],
   "source": [
    "# Renomear as colunas\n",
    "votos = votos.withColumnsRenamed(\n",
    "  {\n",
    "    \"NM_MUNICIPIO\" : \"Municipio\",\n",
    "    \"NR_ZONA\":\"Zona\",\n",
    "    \"NR_SECAO\":\"Secao\",\n",
    "    \"DS_CARGO_PERGUNTA\":\"Cargo\",\n",
    "    \"NM_VOTAVEL\": \"Candidato\",\n",
    "    \"QT_VOTOS\": \"Votos\"\n",
    "  }\n",
    ")"
   ]
  },
  {
   "cell_type": "code",
   "execution_count": 8,
   "metadata": {},
   "outputs": [],
   "source": [
    "# Converter as colunas Zona, Seção e Numero para str\n",
    "votos = votos.selectExpr(\n",
    "  \"cast(Municipio as string) Municipio\",\n",
    "  \"cast(Zona as string) Zona\",\n",
    "  \"cast(Secao as string) Secao\",\n",
    "  \"cast(Cargo as string) Cargo\",\n",
    "  \"cast(Candidato as string) Candidato\",\n",
    "  \"cast(Votos as int) Votos\"\n",
    ")"
   ]
  },
  {
   "cell_type": "code",
   "execution_count": 9,
   "metadata": {},
   "outputs": [],
   "source": [
    "# Capitalizar as Colunas em Maiúsculas\n",
    "votos = (\n",
    "  votos\n",
    "  .withColumn(\"Candidato\", initcap(col(\"Candidato\")))\n",
    "  .withColumn(\"Municipio\", initcap(col(\"Municipio\")))\n",
    "  )"
   ]
  },
  {
   "cell_type": "markdown",
   "metadata": {},
   "source": [
    "#### Presidente"
   ]
  },
  {
   "cell_type": "code",
   "execution_count": 10,
   "metadata": {},
   "outputs": [],
   "source": [
    "# Obter apenas os valores para cargo de presidente\n",
    "presidente = votos.filter(col(\"cargo\") == \"Presidente\")"
   ]
  },
  {
   "cell_type": "code",
   "execution_count": 11,
   "metadata": {},
   "outputs": [],
   "source": [
    "presidente = presidente.select(\"Municipio\",\"Zona\",\"Secao\",\"Candidato\",\"Votos\")"
   ]
  },
  {
   "cell_type": "code",
   "execution_count": 12,
   "metadata": {},
   "outputs": [],
   "source": [
    "presidente = (\n",
    "  presidente\n",
    "  .groupBy(\"Municipio\",\"Zona\", \"Secao\")\n",
    "  .pivot(\"Candidato\")\n",
    "  .max(\"Votos\")\n",
    "  )"
   ]
  },
  {
   "cell_type": "code",
   "execution_count": 13,
   "metadata": {},
   "outputs": [],
   "source": [
    "presidente = presidente.withColumnRenamed(\n",
    "  \"Jair Bolsonaro\",\n",
    "  \"Bolsonaro\"\n",
    ")"
   ]
  },
  {
   "cell_type": "code",
   "execution_count": 15,
   "metadata": {},
   "outputs": [],
   "source": [
    "presidente = presidente.withColumn(\n",
    "  \"Vencedor\",\n",
    "  when(\n",
    "    col(\"Lula\") > col(\"Bolsonaro\"), \"Lula\"\n",
    "  )\n",
    "  .otherwise(\"Bolsonaro\")\n",
    ")"
   ]
  },
  {
   "cell_type": "code",
   "execution_count": 16,
   "metadata": {},
   "outputs": [],
   "source": [
    "secoes_lula = presidente.filter(col(\"Vencedor\") == \"Lula\")"
   ]
  },
  {
   "cell_type": "code",
   "execution_count": 17,
   "metadata": {},
   "outputs": [],
   "source": [
    "secoes_lula = secoes_lula.select(\"Municipio\", \"Zona\", \"Secao\")"
   ]
  },
  {
   "cell_type": "code",
   "execution_count": 18,
   "metadata": {},
   "outputs": [],
   "source": [
    "secoes_bolsonaro = presidente.filter(col(\"Vencedor\") == \"Bolsonaro\")"
   ]
  },
  {
   "cell_type": "code",
   "execution_count": 19,
   "metadata": {},
   "outputs": [],
   "source": [
    "secoes_bolsonaro = secoes_bolsonaro.select(\"Municipio\", \"Zona\", \"Secao\")"
   ]
  },
  {
   "cell_type": "markdown",
   "metadata": {},
   "source": [
    "#### Governador"
   ]
  },
  {
   "cell_type": "code",
   "execution_count": 13,
   "metadata": {},
   "outputs": [],
   "source": [
    "# Filtar votos apenas para cargo de governador\n",
    "governador = (\n",
    "  votos\n",
    "  .filter(col(\"Cargo\") == \"Governador\")\n",
    "  .select(\"Municipio\", \"Zona\", \"Secao\", \"Candidato\", \"Votos\")\n",
    "  )"
   ]
  },
  {
   "cell_type": "code",
   "execution_count": 15,
   "metadata": {},
   "outputs": [],
   "source": [
    "# Dinamizar colunas Candidatos e Votos\n",
    "governador = (\n",
    "  governador\n",
    "  .groupBy(\"Municipio\",\"Zona\", \"Secao\")\n",
    "  .pivot(\"Candidato\")\n",
    "  .max(\"Votos\")\n",
    "  )"
   ]
  },
  {
   "cell_type": "code",
   "execution_count": 18,
   "metadata": {},
   "outputs": [],
   "source": [
    "# Simplificar nome do candidato Fernando Haddad para Haddad e remoção da\n",
    "# acentuação no nome do candidato Tarcísio\n",
    "governador = governador.withColumnsRenamed(\n",
    "  {\n",
    "    \"Fernando Haddad\":\"Haddad\",\n",
    "    \"Tarcísio\": \"Tarcisio\"\n",
    "  }\n",
    ")"
   ]
  },
  {
   "cell_type": "code",
   "execution_count": 21,
   "metadata": {},
   "outputs": [],
   "source": [
    "governador = governador.withColumn(\n",
    "  \"Vencedor\",\n",
    "  when(\n",
    "    col(\"Haddad\") > col(\"Tarcisio\"), \"Haddad\"\n",
    "  )\n",
    "  .otherwise(\"Tarcisio\")\n",
    ")"
   ]
  },
  {
   "cell_type": "code",
   "execution_count": 25,
   "metadata": {},
   "outputs": [],
   "source": [
    "secoes_governador = governador.select(\"Municipio\", \"Zona\", \"Secao\", \"Vencedor\")"
   ]
  },
  {
   "cell_type": "code",
   "execution_count": 28,
   "metadata": {},
   "outputs": [],
   "source": [
    "secoes_haddad = (\n",
    "  secoes_governador\n",
    "  .filter(col(\"Vencedor\") == \"Haddad\")\n",
    "  .drop(col(\"Vencedor\"))\n",
    ")"
   ]
  },
  {
   "cell_type": "code",
   "execution_count": 29,
   "metadata": {},
   "outputs": [],
   "source": [
    "secoes_tarcisio = (\n",
    "  secoes_governador\n",
    "  .filter(col(\"Vencedor\") == \"Tarcisio\")\n",
    "  .drop(col(\"Vencedor\"))\n",
    ")"
   ]
  },
  {
   "cell_type": "markdown",
   "metadata": {},
   "source": [
    "### Perfil Eleitor 2022"
   ]
  },
  {
   "cell_type": "code",
   "execution_count": 30,
   "metadata": {},
   "outputs": [],
   "source": [
    "# Importar arquivo com perfil do eleitor\n",
    "perfil = spark.read.option(\"encoding\", \"ISO-8859-1\").csv(\n",
    "  \"datasets/perfil_eleitor_secao_2022_SP.csv\",\n",
    "  inferSchema=True,\n",
    "  header=True,\n",
    "  sep=\";\"\n",
    "  )"
   ]
  },
  {
   "cell_type": "code",
   "execution_count": 31,
   "metadata": {},
   "outputs": [],
   "source": [
    "# Selecionar colunas específicas\n",
    "perfil = perfil.select(\n",
    "  \"NM_MUNICIPIO\",\n",
    "  \"NR_ZONA\",\n",
    "  \"NR_SECAO\",\n",
    "  \"DS_GENERO\",\n",
    "  \"DS_ESTADO_CIVIL\",\n",
    "  \"DS_FAIXA_ETARIA\",\n",
    "  \"DS_GRAU_ESCOLARIDADE\",\n",
    "  \"QT_ELEITORES_PERFIL\",\n",
    "  \"QT_ELEITORES_BIOMETRIA\",\n",
    "  \"QT_ELEITORES_DEFICIENCIA\",\n",
    "  \"QT_ELEITORES_INC_NM_SOCIAL\"\n",
    ")"
   ]
  },
  {
   "cell_type": "code",
   "execution_count": 32,
   "metadata": {},
   "outputs": [],
   "source": [
    "# Renomear as colunas\n",
    "perfil = perfil.withColumnsRenamed(\n",
    "  {\n",
    "    \"NM_MUNICIPIO\":\"Municipio\",\n",
    "    \"NR_ZONA\":\"Zona\",\n",
    "    \"NR_SECAO\":\"Secao\",\n",
    "    \"DS_GENERO\":\"Genero\",\n",
    "    \"DS_ESTADO_CIVIL\":\"Estado Civil\",\n",
    "    \"DS_FAIXA_ETARIA\":\"Faixa Etaria\",\n",
    "    \"DS_GRAU_ESCOLARIDADE\":\"Escolaridade\",\n",
    "    \"QT_ELEITORES_PERFIL\":\"Eleitores Geral\",\n",
    "    \"QT_ELEITORES_BIOMETRIA\":\"Eleitores Biometria\",\n",
    "    \"QT_ELEITORES_DEFICIENCIA\":\"Eleitores Deficiencia\",\n",
    "    \"QT_ELEITORES_INC_NM_SOCIAL\":\"Eleitores Nome Social\"\n",
    "  }\n",
    ")"
   ]
  },
  {
   "cell_type": "code",
   "execution_count": 33,
   "metadata": {},
   "outputs": [],
   "source": [
    "# Capitalizar os valores das colunas\n",
    "perfil = perfil.withColumns(\n",
    "  {\n",
    "    \"Municipio\":initcap(col(\"Municipio\")),\n",
    "    \"Genero\":initcap(col(\"Genero\")),\n",
    "    \"Estado Civil\":initcap(col(\"Estado Civil\")),\n",
    "    \"Escolaridade\":initcap(col(\"Escolaridade\"))\n",
    "  }\n",
    ")"
   ]
  },
  {
   "cell_type": "code",
   "execution_count": 34,
   "metadata": {},
   "outputs": [],
   "source": [
    "# Diminuir tamanho dos valores, não é necessário.\n",
    "perfil = perfil.withColumn(\n",
    "  \"Escolaridade\",\n",
    "  when(\n",
    "    col(\"Escolaridade\") == \"Ensino Médio Incompleto\", \"Médio Incompleto\"\n",
    "  )\n",
    "  .when(\n",
    "    col(\"Escolaridade\") == \"Ensino Médio Completo\", \"Médio Completo\"\n",
    "  )\n",
    "  .when(\n",
    "    col(\"Escolaridade\") == \"Ensino Fundamental Completo\", \"Fundamental Completo\"\n",
    "  )\n",
    "  .when(\n",
    "    col(\"Escolaridade\") == \"Ensino Fundamental Incompleto\", \"Fundamental Incompleto\"\n",
    "  )\n",
    "  .when(\n",
    "    col(\"Escolaridade\") == \"Ensino Médio Completo\", \"Médio Completo\"\n",
    "  )\n",
    "  .when(\n",
    "    col(\"Escolaridade\") == \"Lê E Escreve\", \"Lê e Escreve\"\n",
    "  )\n",
    "  .when(\n",
    "    col(\"Escolaridade\") == \"Analfabeto\", \"Analfabeto\"\n",
    "  )\n",
    "  .when(\n",
    "    col(\"Escolaridade\") == \"Superior Incompleto\", \"Superior Incompleto\"\n",
    "  )\n",
    "  .when(\n",
    "    col(\"Escolaridade\") == \"Superior Completo\", \"Superior Completo\"\n",
    "  )\n",
    "  .otherwise(col(\"Escolaridade\"))\n",
    ")"
   ]
  },
  {
   "cell_type": "code",
   "execution_count": 35,
   "metadata": {},
   "outputs": [],
   "source": [
    "# Há espaço em branco à direita na coluna 'Faixa Etaria'\n",
    "perfil = (\n",
    "  perfil\n",
    "  .withColumn(\n",
    "    \"Faixa Etaria\",\n",
    "    rtrim(col(\"Faixa Etaria\"))\n",
    "    )\n",
    "  )"
   ]
  },
  {
   "cell_type": "markdown",
   "metadata": {},
   "source": [
    "#### Perfil Presidentes"
   ]
  },
  {
   "cell_type": "code",
   "execution_count": 26,
   "metadata": {},
   "outputs": [],
   "source": [
    "perfil_lula = secoes_lula.join(\n",
    "  perfil,\n",
    "  [\n",
    "    \"Municipio\",\n",
    "    \"Zona\",\n",
    "    \"Secao\"\n",
    "  ],\n",
    "  \"inner\",\n",
    ")"
   ]
  },
  {
   "cell_type": "code",
   "execution_count": 51,
   "metadata": {},
   "outputs": [],
   "source": [
    "perfil_bolsonaro = secoes_bolsonaro.join(\n",
    "  perfil,\n",
    "  [\n",
    "    \"Municipio\",\n",
    "    \"Zona\",\n",
    "    \"Secao\"\n",
    "  ],\n",
    "  \"inner\"\n",
    ")"
   ]
  },
  {
   "cell_type": "markdown",
   "metadata": {},
   "source": [
    "#### Perfil Governadores"
   ]
  },
  {
   "cell_type": "code",
   "execution_count": 36,
   "metadata": {},
   "outputs": [],
   "source": [
    "perfil_haddad = secoes_haddad.join(\n",
    "  perfil,\n",
    "  [\n",
    "    \"Municipio\",\n",
    "    \"Zona\",\n",
    "    \"Secao\"\n",
    "  ],\n",
    "  \"inner\"\n",
    ")"
   ]
  },
  {
   "cell_type": "code",
   "execution_count": 38,
   "metadata": {},
   "outputs": [],
   "source": [
    "perfil_tarcisio = secoes_tarcisio.join(\n",
    "  perfil,\n",
    "  [\n",
    "    \"Municipio\",\n",
    "    \"Zona\",\n",
    "    \"Secao\"\n",
    "  ],\n",
    "  \"inner\"\n",
    ")"
   ]
  }
 ],
 "metadata": {
  "kernelspec": {
   "display_name": "venv",
   "language": "python",
   "name": "python3"
  },
  "language_info": {
   "codemirror_mode": {
    "name": "ipython",
    "version": 3
   },
   "file_extension": ".py",
   "mimetype": "text/x-python",
   "name": "python",
   "nbconvert_exporter": "python",
   "pygments_lexer": "ipython3",
   "version": "3.12.6"
  }
 },
 "nbformat": 4,
 "nbformat_minor": 2
}
